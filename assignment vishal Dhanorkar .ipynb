{
 "cells": [
  {
   "cell_type": "markdown",
   "id": "241f22cd",
   "metadata": {},
   "source": [
    "# Regular Expression"
   ]
  },
  {
   "cell_type": "markdown",
   "id": "72575e77",
   "metadata": {},
   "source": [
    "# Que 1- Write a Python program to check that a string contains only a certain set of characters (in this case a-z, A-Z and 0-9)."
   ]
  },
  {
   "cell_type": "code",
   "execution_count": 1,
   "id": "43f03e43",
   "metadata": {},
   "outputs": [],
   "source": [
    "import re\n",
    "def is_allowed_chars(string):\n",
    "    pattern = '^[a-zA-Z0-9]*$'\n",
    "    return bool (re.match(pattern, string))"
   ]
  },
  {
   "cell_type": "code",
   "execution_count": 2,
   "id": "2352ceda",
   "metadata": {},
   "outputs": [
    {
     "name": "stdout",
     "output_type": "stream",
     "text": [
      "True\n"
     ]
    }
   ],
   "source": [
    "test_string = \"ABCabc123\"\n",
    "print(is_allowed_chars(test_string)) "
   ]
  },
  {
   "cell_type": "markdown",
   "id": "8664f1c0",
   "metadata": {},
   "source": [
    "Que 2- Create a function in python that matches a string that has an a followed by zero or more b's"
   ]
  },
  {
   "cell_type": "code",
   "execution_count": 3,
   "id": "aea436a4",
   "metadata": {},
   "outputs": [],
   "source": [
    "import re\n",
    "def match_ab(string):\n",
    "    pattern = '^ab*'\n",
    "    return bool(re.match(pattern, string))"
   ]
  },
  {
   "cell_type": "code",
   "execution_count": 4,
   "id": "105b76e8",
   "metadata": {},
   "outputs": [
    {
     "name": "stdout",
     "output_type": "stream",
     "text": [
      "True\n"
     ]
    }
   ],
   "source": [
    "test_string = \"ac\"\n",
    "print(match_ab(test_string))"
   ]
  },
  {
   "cell_type": "code",
   "execution_count": 5,
   "id": "fbffcaa5",
   "metadata": {},
   "outputs": [
    {
     "name": "stdout",
     "output_type": "stream",
     "text": [
      "True\n"
     ]
    }
   ],
   "source": [
    "test_string =\"ab\"\n",
    "print(match_ab(test_string))"
   ]
  },
  {
   "cell_type": "code",
   "execution_count": 6,
   "id": "a2c0780e",
   "metadata": {},
   "outputs": [
    {
     "name": "stdout",
     "output_type": "stream",
     "text": [
      "True\n"
     ]
    }
   ],
   "source": [
    "test_string =\"aabbcc\"\n",
    "print(match_ab(test_string))"
   ]
  },
  {
   "cell_type": "markdown",
   "id": "1e6106de",
   "metadata": {},
   "source": [
    "Que 3- Create a function in python that matches a string that has an a followed by one or more b's"
   ]
  },
  {
   "cell_type": "code",
   "execution_count": 7,
   "id": "f9cc801f",
   "metadata": {},
   "outputs": [],
   "source": [
    "import re\n",
    "def match_ab(string):\n",
    "    pattern = '^ab+'\n",
    "    return bool(re.match(pattern, string))"
   ]
  },
  {
   "cell_type": "code",
   "execution_count": 8,
   "id": "09ee2900",
   "metadata": {},
   "outputs": [
    {
     "name": "stdout",
     "output_type": "stream",
     "text": [
      "True\n"
     ]
    }
   ],
   "source": [
    "test_string = \"abc\"\n",
    "print(match_ab(test_string))"
   ]
  },
  {
   "cell_type": "code",
   "execution_count": 9,
   "id": "1fb70208",
   "metadata": {},
   "outputs": [
    {
     "name": "stdout",
     "output_type": "stream",
     "text": [
      "False\n"
     ]
    }
   ],
   "source": [
    "test_string = \"aabbcc\"\n",
    "print(match_ab(test_string))"
   ]
  },
  {
   "cell_type": "code",
   "execution_count": 10,
   "id": "22403a4c",
   "metadata": {},
   "outputs": [
    {
     "name": "stdout",
     "output_type": "stream",
     "text": [
      "True\n"
     ]
    }
   ],
   "source": [
    "test_string= \"abbc\"\n",
    "print(match_ab(test_string))"
   ]
  },
  {
   "cell_type": "markdown",
   "id": "95b9193b",
   "metadata": {},
   "source": [
    "Que 4- Create a function in Python and use RegEx that matches a string that has an a followed by zero or one 'b'."
   ]
  },
  {
   "cell_type": "code",
   "execution_count": 11,
   "id": "3a2003bf",
   "metadata": {},
   "outputs": [],
   "source": [
    "import re\n",
    "def match_ab(string):\n",
    "    pattern = '^ab?'\n",
    "    return bool(re.match(pattern, string))"
   ]
  },
  {
   "cell_type": "code",
   "execution_count": 12,
   "id": "8b147bc6",
   "metadata": {},
   "outputs": [
    {
     "name": "stdout",
     "output_type": "stream",
     "text": [
      "True\n"
     ]
    }
   ],
   "source": [
    "test_string = \"ac\"\n",
    "print(match_ab(test_string)) "
   ]
  },
  {
   "cell_type": "code",
   "execution_count": 13,
   "id": "9f40b8d0",
   "metadata": {},
   "outputs": [
    {
     "name": "stdout",
     "output_type": "stream",
     "text": [
      "True\n"
     ]
    }
   ],
   "source": [
    "test_string = \"abc\"\n",
    "print (match_ab(test_string))"
   ]
  },
  {
   "cell_type": "markdown",
   "id": "6a4e6227",
   "metadata": {},
   "source": [
    "Que5- Write a Python program that matches a string that has an a followed by three 'b'."
   ]
  },
  {
   "cell_type": "code",
   "execution_count": 14,
   "id": "12aa08a1",
   "metadata": {},
   "outputs": [],
   "source": [
    "import re\n",
    "def match_abb(string):\n",
    "    pattern = '^ab{3}'\n",
    "    return bool(re.match(pattern, string))"
   ]
  },
  {
   "cell_type": "code",
   "execution_count": 15,
   "id": "0f19c97e",
   "metadata": {},
   "outputs": [
    {
     "name": "stdout",
     "output_type": "stream",
     "text": [
      "True\n"
     ]
    }
   ],
   "source": [
    "test_string = \"abbbc\"\n",
    "print(match_abb(test_string))"
   ]
  },
  {
   "cell_type": "markdown",
   "id": "0c3efe87",
   "metadata": {},
   "source": [
    "Que 6- Write a regular expression in Python to split a string into uppercase letters. Sample text: “ImportanceOfRegularExpressionsInPython” Output: [‘Importance’, ‘Of’, ‘Regular’, ‘Expression’, ‘In’, ‘Python’]\n",
    "\n"
   ]
  },
  {
   "cell_type": "code",
   "execution_count": 16,
   "id": "eed3d4f4",
   "metadata": {},
   "outputs": [],
   "source": [
    "import re\n",
    "def split_uppercase(string):\n",
    "    return re.findall(r'[A-Z][a-z]*', string)"
   ]
  },
  {
   "cell_type": "code",
   "execution_count": 17,
   "id": "fc39e306",
   "metadata": {},
   "outputs": [
    {
     "name": "stdout",
     "output_type": "stream",
     "text": [
      "['Importance', 'Of', 'Regular', 'Expressions', 'In', 'Python']\n"
     ]
    }
   ],
   "source": [
    "test_string = \"ImportanceOfRegularExpressionsInPython\"\n",
    "print(split_uppercase(test_string))"
   ]
  },
  {
   "cell_type": "markdown",
   "id": "36d18ac4",
   "metadata": {},
   "source": [
    "Que 7- Write a Python program that matches a string that has an a followed by two to three 'b'."
   ]
  },
  {
   "cell_type": "code",
   "execution_count": 18,
   "id": "4568ed96",
   "metadata": {},
   "outputs": [],
   "source": [
    "import re\n",
    "def match_abb(string):\n",
    "    pattern = '^ab{2,3}'\n",
    "    return bool(re.match(pattern, string))"
   ]
  },
  {
   "cell_type": "code",
   "execution_count": 19,
   "id": "1da45bf6",
   "metadata": {},
   "outputs": [
    {
     "name": "stdout",
     "output_type": "stream",
     "text": [
      "True\n"
     ]
    }
   ],
   "source": [
    "test_string = \"abbc\"\n",
    "print(match_abb(test_string))"
   ]
  },
  {
   "cell_type": "code",
   "execution_count": 20,
   "id": "9b8bfa56",
   "metadata": {},
   "outputs": [
    {
     "name": "stdout",
     "output_type": "stream",
     "text": [
      "True\n"
     ]
    }
   ],
   "source": [
    "test_string = \"abbbc\"\n",
    "print(match_abb(test_string))"
   ]
  },
  {
   "cell_type": "markdown",
   "id": "4fbd212b",
   "metadata": {},
   "source": [
    "Que 8- Write a Python program to find sequences of lowercase letters joined with a underscore."
   ]
  },
  {
   "cell_type": "code",
   "execution_count": 21,
   "id": "dcb9aded",
   "metadata": {},
   "outputs": [],
   "source": [
    "import re\n",
    "def find_lowercase_underscore(string):\n",
    "    return re.findall(r'\\b[a-z]+_[a-z]+\\b', string)"
   ]
  },
  {
   "cell_type": "code",
   "execution_count": 22,
   "id": "6defecfa",
   "metadata": {},
   "outputs": [
    {
     "name": "stdout",
     "output_type": "stream",
     "text": [
      "['has_seven']\n"
     ]
    }
   ],
   "source": [
    "test_string = \"The rainbow has_seven colors\"\n",
    "print(find_lowercase_underscore(test_string))"
   ]
  },
  {
   "cell_type": "markdown",
   "id": "8bd5cb4d",
   "metadata": {},
   "source": [
    "Que 9- Write a Python program that matches a string that has an 'a' followed by anything, ending in 'b'."
   ]
  },
  {
   "cell_type": "code",
   "execution_count": 23,
   "id": "f9d16067",
   "metadata": {},
   "outputs": [],
   "source": [
    "import re\n",
    "def match_ab(string):\n",
    "    pattern = '^a.*b$'\n",
    "    return bool(re.match(pattern, string))"
   ]
  },
  {
   "cell_type": "code",
   "execution_count": 24,
   "id": "f96ac020",
   "metadata": {},
   "outputs": [
    {
     "name": "stdout",
     "output_type": "stream",
     "text": [
      "True\n"
     ]
    }
   ],
   "source": [
    "test_string = \"a123b\"\n",
    "print(match_ab(test_string))"
   ]
  },
  {
   "cell_type": "code",
   "execution_count": 25,
   "id": "5719a5f4",
   "metadata": {},
   "outputs": [
    {
     "name": "stdout",
     "output_type": "stream",
     "text": [
      "True\n"
     ]
    }
   ],
   "source": [
    "test_string = \"adverb\"\n",
    "print(match_ab(test_string))"
   ]
  },
  {
   "cell_type": "markdown",
   "id": "5ea7ab42",
   "metadata": {},
   "source": [
    "Que 10- Write a Python program that matches a word at the beginning of a string."
   ]
  },
  {
   "cell_type": "code",
   "execution_count": 26,
   "id": "4c84e35e",
   "metadata": {},
   "outputs": [],
   "source": [
    "import re\n",
    "def match_word_start(string):\n",
    "    return re.findall(r'^\\w+', string)"
   ]
  },
  {
   "cell_type": "code",
   "execution_count": 27,
   "id": "970167af",
   "metadata": {},
   "outputs": [
    {
     "name": "stdout",
     "output_type": "stream",
     "text": [
      "['Hello']\n"
     ]
    }
   ],
   "source": [
    "test_string = \"Hello, all!\"\n",
    "print(match_word_start(test_string))"
   ]
  },
  {
   "cell_type": "markdown",
   "id": "d19d3a99",
   "metadata": {},
   "source": [
    "Ques 11- Write a Python program to match a string that contains only upper and lowercase letters, numbers, and underscores."
   ]
  },
  {
   "cell_type": "code",
   "execution_count": 28,
   "id": "aca03e26",
   "metadata": {},
   "outputs": [],
   "source": [
    "import re\n",
    "def is_allowed_chars(string):\n",
    "    pattern = '^\\w+$'\n",
    "    return bool(re.match(pattern, string))"
   ]
  },
  {
   "cell_type": "code",
   "execution_count": 29,
   "id": "6e69e1a7",
   "metadata": {},
   "outputs": [
    {
     "name": "stdout",
     "output_type": "stream",
     "text": [
      "True\n"
     ]
    }
   ],
   "source": [
    "test_string = \"ABCabc123_\"\n",
    "print(is_allowed_chars(test_string))"
   ]
  },
  {
   "cell_type": "code",
   "execution_count": 30,
   "id": "d71ae6f2",
   "metadata": {},
   "outputs": [
    {
     "name": "stdout",
     "output_type": "stream",
     "text": [
      "True\n"
     ]
    }
   ],
   "source": [
    "test_string = \"SUM_one111\"\n",
    "print(is_allowed_chars(test_string))"
   ]
  },
  {
   "cell_type": "code",
   "execution_count": 31,
   "id": "04733285",
   "metadata": {},
   "outputs": [
    {
     "name": "stdout",
     "output_type": "stream",
     "text": [
      "True\n"
     ]
    }
   ],
   "source": [
    "test_string = \"_tincy100ABC\"\n",
    "print(is_allowed_chars(test_string))"
   ]
  },
  {
   "cell_type": "markdown",
   "id": "ae287cd6",
   "metadata": {},
   "source": [
    "Que 12- Write a Python program where a string will start with a specific number."
   ]
  },
  {
   "cell_type": "code",
   "execution_count": 32,
   "id": "9ade2b79",
   "metadata": {},
   "outputs": [],
   "source": [
    "import re\n",
    "def match_start_number(string, number):\n",
    "    pattern = '^' + str(number)\n",
    "    return bool(re.match(pattern, string))"
   ]
  },
  {
   "cell_type": "code",
   "execution_count": 33,
   "id": "215d59ca",
   "metadata": {},
   "outputs": [
    {
     "name": "stdout",
     "output_type": "stream",
     "text": [
      "True\n"
     ]
    }
   ],
   "source": [
    "test_string = \"123abc\"\n",
    "print(match_start_number(test_string, 123))"
   ]
  },
  {
   "cell_type": "code",
   "execution_count": 34,
   "id": "ac7d9528",
   "metadata": {},
   "outputs": [
    {
     "name": "stdout",
     "output_type": "stream",
     "text": [
      "False\n"
     ]
    }
   ],
   "source": [
    "test_string = \"678abc\"\n",
    "print(match_start_number(test_string, 123))"
   ]
  },
  {
   "cell_type": "markdown",
   "id": "0660e965",
   "metadata": {},
   "source": [
    "Ques 13- Write a Python program to remove leading zeros from an IP address"
   ]
  },
  {
   "cell_type": "code",
   "execution_count": 35,
   "id": "b662ad38",
   "metadata": {},
   "outputs": [],
   "source": [
    "import re\n",
    "def remove_leading_zeros(ip):\n",
    "    return re.sub(r'\\b0+(\\d)', r'\\1', ip)"
   ]
  },
  {
   "cell_type": "code",
   "execution_count": 36,
   "id": "060a9580",
   "metadata": {},
   "outputs": [
    {
     "name": "stdout",
     "output_type": "stream",
     "text": [
      "162.8.894.11\n"
     ]
    }
   ],
   "source": [
    "test_ip = \"162.08.894.0011\"\n",
    "print(remove_leading_zeros(test_ip))"
   ]
  },
  {
   "cell_type": "markdown",
   "id": "82cae0e0",
   "metadata": {},
   "source": [
    "Ques 14- Write a regular expression in python to match a date string in the form of Month name followed by day number and year stored in a text file."
   ]
  },
  {
   "cell_type": "code",
   "execution_count": 37,
   "id": "7768de41",
   "metadata": {},
   "outputs": [],
   "source": [
    "import re\n",
    "regex = r\"([a-zA-Z]+) (\\d{1,2}), (\\d{4})\"\n",
    "test_str = \"July 1, 2023\""
   ]
  },
  {
   "cell_type": "code",
   "execution_count": 38,
   "id": "bb89e2b3",
   "metadata": {},
   "outputs": [
    {
     "name": "stdout",
     "output_type": "stream",
     "text": [
      "Match was found at 0-12: July 1, 2023\n"
     ]
    }
   ],
   "source": [
    "matches = re.search(regex, test_str)\n",
    "\n",
    "if matches:\n",
    "     print(\"Match was found at {start}-{end}: {match}\".format(\n",
    "        start=matches.start(), end=matches.end(), match=matches.group()\n",
    "    ))"
   ]
  },
  {
   "cell_type": "markdown",
   "id": "a52f4418",
   "metadata": {},
   "source": [
    "Que 14- Write a regular expression in python to match a date string in the form of Month name followed by day number and year stored in a text file. Sample text : ' On August 15th 1947 that India was declared independent from British colonialism, and the reins of control were handed over to the leaders of the Country’. Output- August 15th 1947 Hint- Use re.match() method here"
   ]
  },
  {
   "cell_type": "code",
   "execution_count": 39,
   "id": "5f69fdc7",
   "metadata": {},
   "outputs": [],
   "source": [
    "import re\n",
    "text = \"On August 15th 1947 that India was declared independent from British colonialism, and the rei\"\n",
    "date_regex = r\"([A-Z][a-z]+) (\\d{1,2})[a-z]{0,2} (\\d{4})\""
   ]
  },
  {
   "cell_type": "code",
   "execution_count": 40,
   "id": "aae38fb4",
   "metadata": {},
   "outputs": [
    {
     "name": "stdout",
     "output_type": "stream",
     "text": [
      "Month name: August\n",
      "Day number: 15\n",
      "Year: 1947\n"
     ]
    }
   ],
   "source": [
    "match = re.search(date_regex, text)\n",
    "if match:\n",
    "    month_name = match.group(1)\n",
    "    day_number = match.group(2)\n",
    "    year = match.group(3)\n",
    "    print(f\"Month name: {month_name}\\nDay number: {day_number}\\nYear: {year}\")"
   ]
  },
  {
   "cell_type": "markdown",
   "id": "475e283e",
   "metadata": {},
   "source": [
    "Que 15- Write a Python program to search some literals strings in a string. Go to the editor Sample text : 'The quick brown fox jumps over the lazy dog.' Searched words : 'fox', 'dog', 'horse'"
   ]
  },
  {
   "cell_type": "code",
   "execution_count": 41,
   "id": "b1b44a60",
   "metadata": {},
   "outputs": [],
   "source": [
    "text = 'The quick brown fox jumps over the lazy dog.'\n",
    "searched_words = ['fox', 'dog', 'horse']"
   ]
  },
  {
   "cell_type": "code",
   "execution_count": 42,
   "id": "8ff2b458",
   "metadata": {},
   "outputs": [
    {
     "name": "stdout",
     "output_type": "stream",
     "text": [
      "'fox' found in 'The quick brown fox jumps over the lazy dog.'\n",
      "'dog' found in 'The quick brown fox jumps over the lazy dog.'\n",
      "'horse' not found in 'The quick brown fox jumps over the lazy dog.'\n"
     ]
    }
   ],
   "source": [
    "for word in searched_words:\n",
    "    if text.find(word) != -1:\n",
    "        print(f\"'{word}' found in '{text}'\")\n",
    "    else:\n",
    "        print(f\"'{word}' not found in '{text}'\")"
   ]
  },
  {
   "cell_type": "markdown",
   "id": "91ec07e7",
   "metadata": {},
   "source": [
    "Que 16- Write a Python program to search a literals string in a string and also find the location within the original string where the pattern occurs Sample text : 'The quick brown fox jumps over the lazy dog.' Searched words : 'fox'"
   ]
  },
  {
   "cell_type": "code",
   "execution_count": 43,
   "id": "1150ef30",
   "metadata": {},
   "outputs": [],
   "source": [
    "import re\n",
    "pattern = 'fox'\n",
    "text = 'the quick brown fox jumps over the lazy dog.'"
   ]
  },
  {
   "cell_type": "code",
   "execution_count": 44,
   "id": "f8e61421",
   "metadata": {},
   "outputs": [
    {
     "name": "stdout",
     "output_type": "stream",
     "text": [
      "'fox' found at match 16\n"
     ]
    }
   ],
   "source": [
    "match = text.find(pattern)\n",
    "if match != -1:\n",
    "    print(f\"'{pattern}' found at match {match}\")\n",
    "else:\n",
    "    print(f\"'{pattern}' not found\")"
   ]
  },
  {
   "cell_type": "markdown",
   "id": "8e07bcb4",
   "metadata": {},
   "source": [
    "Que 17- Write a Python program to find the substrings within a string. Sample text : 'Python exercises, PHP exercises, C# exercises' Pattern : 'exercises'."
   ]
  },
  {
   "cell_type": "code",
   "execution_count": 45,
   "id": "529c6b1c",
   "metadata": {},
   "outputs": [],
   "source": [
    "import re\n",
    "pattern = 'exercises'\n",
    "text = 'Python exercises, PHP exercises, C# exercises'"
   ]
  },
  {
   "cell_type": "code",
   "execution_count": 46,
   "id": "6234c494",
   "metadata": {},
   "outputs": [
    {
     "name": "stdout",
     "output_type": "stream",
     "text": [
      "'exercises' found at index 36 \n"
     ]
    }
   ],
   "source": [
    "for match in re.finditer(pattern, text):\n",
    "    start = match.start()\n",
    "   \n",
    "print(f\"'{pattern}' found at index {start} \")"
   ]
  },
  {
   "cell_type": "markdown",
   "id": "a195ddd2",
   "metadata": {},
   "source": [
    "Que 18- Write a Python program to find the occurrence and position of the substrings within a string."
   ]
  },
  {
   "cell_type": "code",
   "execution_count": 47,
   "id": "8c3522e3",
   "metadata": {},
   "outputs": [],
   "source": [
    "import re\n",
    "pattern = 'exercises'\n",
    "text = 'Python exercises, PHP exercises, C# exercises'"
   ]
  },
  {
   "cell_type": "code",
   "execution_count": 48,
   "id": "c9ad2ef8",
   "metadata": {},
   "outputs": [
    {
     "name": "stdout",
     "output_type": "stream",
     "text": [
      "Found 3 occurrences of \"exercises\" in \"Python exercises, PHP exercises, C# exercises\":\n",
      "\"exercises\" at position 7 to 16\n",
      "\"exercises\" at position 22 to 31\n",
      "\"exercises\" at position 36 to 45\n"
     ]
    }
   ],
   "source": [
    "matches = re.finditer(pattern, text)\n",
    "if matches:\n",
    "    print(f'Found {len(list(matches))} occurrences of \"{pattern}\" in \"{text}\":')\n",
    "    for match in re.finditer(pattern, text):\n",
    "        s = match.start()\n",
    "        e = match.end()\n",
    "        print(f'\"{match.group()}\" at position {s} to {e}')\n",
    "else:\n",
    "    print(f'\"{pattern}\" not found in \"{text}\"')"
   ]
  },
  {
   "cell_type": "markdown",
   "id": "90426c69",
   "metadata": {},
   "source": [
    "Que 19- Write a Python program to convert a date of yyyy-mm-dd format to dd-mm-yyyy format."
   ]
  },
  {
   "cell_type": "code",
   "execution_count": 49,
   "id": "56b59fd4",
   "metadata": {},
   "outputs": [],
   "source": [
    "from datetime import datetime\n",
    "date_str = '2023-07-12' # example date in yyyy-mm-dd format\n",
    "date_obj = datetime.strptime(date_str, '%Y-%m-%d')\n",
    "new_date_str = date_obj.strftime('%d-%m-%Y')"
   ]
  },
  {
   "cell_type": "code",
   "execution_count": 50,
   "id": "f506a163",
   "metadata": {},
   "outputs": [
    {
     "name": "stdout",
     "output_type": "stream",
     "text": [
      "Original date: 2023-07-12\n",
      "New date: 12-07-2023\n"
     ]
    }
   ],
   "source": [
    "print(f\"Original date: {date_str}\")\n",
    "print(f\"New date: {new_date_str}\")"
   ]
  },
  {
   "cell_type": "markdown",
   "id": "c899004b",
   "metadata": {},
   "source": [
    "Que 20- Write a Python program to find all words starting with 'a' or 'e' in a given string."
   ]
  },
  {
   "cell_type": "code",
   "execution_count": 51,
   "id": "b4877a2c",
   "metadata": {},
   "outputs": [],
   "source": [
    "import re\n",
    "text = 'There is an baby elephant playing with tourists.'\n",
    "pattern = r'\\b[aeAE]\\w+\\b'\n",
    "words = re.findall(pattern, text)"
   ]
  },
  {
   "cell_type": "code",
   "execution_count": 52,
   "id": "358ff44f",
   "metadata": {},
   "outputs": [
    {
     "name": "stdout",
     "output_type": "stream",
     "text": [
      "Words starting with 'a' or 'e': ['an', 'elephant']\n"
     ]
    }
   ],
   "source": [
    "print(f\"Words starting with 'a' or 'e': {words}\")"
   ]
  },
  {
   "cell_type": "markdown",
   "id": "159d4d3b",
   "metadata": {},
   "source": [
    "Que 21- Write a Python program to separate and print the numbers and their position of a given string."
   ]
  },
  {
   "cell_type": "code",
   "execution_count": 54,
   "id": "a0c9ee77",
   "metadata": {},
   "outputs": [],
   "source": [
    "import re\n",
    "text = 'The quick white rabbit jumps 20 feet over the lazy tortoise.'\n",
    "pattern = r'\\d+'"
   ]
  },
  {
   "cell_type": "code",
   "execution_count": 55,
   "id": "d113b024",
   "metadata": {},
   "outputs": [
    {
     "name": "stdout",
     "output_type": "stream",
     "text": [
      "Number: 20, Position: 29-31\n"
     ]
    }
   ],
   "source": [
    "for match in re.finditer(pattern, text):\n",
    "    number = match.group()\n",
    "    start = match.start()\n",
    "    end = match.end()\n",
    "    print(f\"Number: {number}, Position: {start}-{end}\")"
   ]
  },
  {
   "cell_type": "markdown",
   "id": "6039079a",
   "metadata": {},
   "source": [
    "Que 22- Write a regular expression in python program to extract maximum numeric value from a string"
   ]
  },
  {
   "cell_type": "code",
   "execution_count": 56,
   "id": "83e29357",
   "metadata": {},
   "outputs": [],
   "source": [
    "import re\n",
    "text = 'The quick white rabbit jumps 20 feet over the lazy tortoise and eats 5 carrots.'\n",
    "pattern = r'\\d+'\n",
    "numbers = [int(match.group()) for match in re.finditer(pattern, text)]\n",
    "max_number = max(numbers)"
   ]
  },
  {
   "cell_type": "code",
   "execution_count": 57,
   "id": "20c4953f",
   "metadata": {},
   "outputs": [
    {
     "name": "stdout",
     "output_type": "stream",
     "text": [
      "Maximum numeric value: 20\n"
     ]
    }
   ],
   "source": [
    "print(f\"Maximum numeric value: {max_number}\")"
   ]
  },
  {
   "cell_type": "markdown",
   "id": "4c1fc40e",
   "metadata": {},
   "source": [
    "Que 23- Write a Regex in Python to put spaces between words starting with capital letters."
   ]
  },
  {
   "cell_type": "code",
   "execution_count": 58,
   "id": "6badfba1",
   "metadata": {},
   "outputs": [],
   "source": [
    "import re\n",
    "text = 'LookThereIsKiteFlyingInTheSky'\n",
    "pattern = r'([A-Z][a-z]+)'\n",
    "\n",
    "new_text = re.sub(pattern, r'\\1 ', text).strip()"
   ]
  },
  {
   "cell_type": "code",
   "execution_count": 59,
   "id": "f31aa90b",
   "metadata": {},
   "outputs": [
    {
     "name": "stdout",
     "output_type": "stream",
     "text": [
      "Original text: LookThereIsKiteFlyingInTheSky\n",
      "New text: Look There Is Kite Flying In The Sky\n"
     ]
    }
   ],
   "source": [
    "print(f\"Original text: {text}\")\n",
    "print(f\"New text: {new_text}\")"
   ]
  },
  {
   "cell_type": "markdown",
   "id": "d89d2d14",
   "metadata": {},
   "source": [
    "Que 24- Python regex to find sequences of one upper case letter followed by lower case letters."
   ]
  },
  {
   "cell_type": "code",
   "execution_count": 60,
   "id": "82ec6b20",
   "metadata": {},
   "outputs": [],
   "source": [
    "import re\n",
    "text = 'LookThereIsKiteFlyingInTheSky'\n",
    "pattern = r'[A-Z][a-z]+'\n",
    "\n",
    "matches = re.findall(pattern, text)"
   ]
  },
  {
   "cell_type": "code",
   "execution_count": 61,
   "id": "eac72ac0",
   "metadata": {},
   "outputs": [
    {
     "name": "stdout",
     "output_type": "stream",
     "text": [
      "Matches: ['Look', 'There', 'Is', 'Kite', 'Flying', 'In', 'The', 'Sky']\n"
     ]
    }
   ],
   "source": [
    "print(f\"Matches: {matches}\")"
   ]
  },
  {
   "cell_type": "markdown",
   "id": "208ede98",
   "metadata": {},
   "source": [
    "Que 25- Write a Python program to remove duplicate words from Sentence using Regular Expression"
   ]
  },
  {
   "cell_type": "code",
   "execution_count": 62,
   "id": "cc6f445f",
   "metadata": {},
   "outputs": [],
   "source": [
    "import re\n",
    "text = 'The quick brown kangaroo jumps over the lazy rabbit and the lazy rabbit jumps over the quick brown kangaroo.'\n",
    "pattern = r'\\b(\\w+)\\b(?=.*\\b\\1\\b)'\n",
    "\n",
    "new_text = re.sub(pattern, '', text)"
   ]
  },
  {
   "cell_type": "code",
   "execution_count": 63,
   "id": "be528988",
   "metadata": {},
   "outputs": [
    {
     "name": "stdout",
     "output_type": "stream",
     "text": [
      "Original text: The quick brown kangaroo jumps over the lazy rabbit and the lazy rabbit jumps over the quick brown kangaroo.\n",
      "New text: The         and  lazy rabbit jumps over the quick brown kangaroo.\n"
     ]
    }
   ],
   "source": [
    "print(f\"Original text: {text}\")\n",
    "print(f\"New text: {new_text}\")"
   ]
  },
  {
   "cell_type": "markdown",
   "id": "3c1a0537",
   "metadata": {},
   "source": [
    "Que 26- Write a python program using RegEx to accept string ending with alphanumeric character."
   ]
  },
  {
   "cell_type": "code",
   "execution_count": 64,
   "id": "68097dba",
   "metadata": {},
   "outputs": [],
   "source": [
    "import re\n",
    "def is_valid(text):\n",
    "    pattern = r'\\w$'\n",
    "    return bool(re.search(pattern, text))\n",
    "\n",
    "text1 = 'The rainbow has total 7 colors in it.'\n",
    "text2 = 'The rainbow has total seven colors in it'"
   ]
  },
  {
   "cell_type": "code",
   "execution_count": 65,
   "id": "4d6098e1",
   "metadata": {},
   "outputs": [
    {
     "name": "stdout",
     "output_type": "stream",
     "text": [
      "The rainbow has total 7 colors in it.: False\n",
      "The rainbow has total seven colors in it: True\n"
     ]
    }
   ],
   "source": [
    "print(f\"{text1}: {is_valid(text1)}\")\n",
    "print(f\"{text2}: {is_valid(text2)}\")"
   ]
  },
  {
   "cell_type": "markdown",
   "id": "a51606d7",
   "metadata": {},
   "source": [
    "Que 27-Write a python program using RegEx to extract the hashtags. Sample Text: text = \"\"\"RT @kapil_kausik: #Doltiwal I mean #xyzabc is \"hurt\" by #Demonetization as the same has rendered USELESS <U+00A0><U+00BD><U+00B1><U+0089> \"acquired funds\" No wo\"\"\" Output: ['#Doltiwal', '#xyzabc', '#Demonetization']"
   ]
  },
  {
   "cell_type": "code",
   "execution_count": 66,
   "id": "ad2b29df",
   "metadata": {},
   "outputs": [],
   "source": [
    "import re\n",
    "text = \"\"\"RT @kapil_kausik: #Doltiwal I mean #xyzabc is \"hurt\" by #Demonetization as the same has rendered USELESS <ed><U+00A0><U+00BD><ed><U+00B1><U+0089> \"acquired funds\" No wo\"\"\"\n",
    "pattern = r'#\\w+'\n",
    "hashtags = re.findall(pattern, text)"
   ]
  },
  {
   "cell_type": "code",
   "execution_count": 67,
   "id": "2da9721a",
   "metadata": {},
   "outputs": [
    {
     "name": "stdout",
     "output_type": "stream",
     "text": [
      "Hashtags: ['#Doltiwal', '#xyzabc', '#Demonetization']\n"
     ]
    }
   ],
   "source": [
    "print(f\"Hashtags: {hashtags}\")"
   ]
  },
  {
   "cell_type": "markdown",
   "id": "60c01f75",
   "metadata": {},
   "source": [
    "Que 28- Write a python program using RegEx to remove <U+..> like symbols Check the below sample text, there are strange symbols something of the sort <U+..> all over the place. You need to come up with a general Regex expression that will cover all such symbols. Sample Text: \"@Jags123456 Bharat band on 28??<U+00A0><U+00BD><U+00B8><U+0082>Those who are protesting #demonetization are all different party leaders\" Output: @Jags123456 Bharat band on 28??Those who are protesting #demonetization are all different party leaders"
   ]
  },
  {
   "cell_type": "code",
   "execution_count": 68,
   "id": "cc1cd7ba",
   "metadata": {},
   "outputs": [],
   "source": [
    "import re\n",
    "text = '@Jags123456 Bharat band on 28??<ed><U+00A0><U+00BD><ed><U+00B8><U+0082>Those who  are protesting #demonetization  are all different party leaders'\n",
    "pattern = r'<U\\+\\w+>'\n",
    "new_text = re.sub(pattern, '', text)"
   ]
  },
  {
   "cell_type": "code",
   "execution_count": 69,
   "id": "951512b9",
   "metadata": {},
   "outputs": [
    {
     "name": "stdout",
     "output_type": "stream",
     "text": [
      "New text: @Jags123456 Bharat band on 28??<ed><ed>Those who  are protesting #demonetization  are all different party leaders\n"
     ]
    }
   ],
   "source": [
    "print(f\"New text: {new_text}\")"
   ]
  },
  {
   "cell_type": "markdown",
   "id": "96e60c96",
   "metadata": {},
   "source": [
    "Que 29- Write a python program to extract dates from the text stored in the text file. Sample Text: Ron was born on 12-09-1992 and he was admitted to school 15-12-1999. Store this sample text in the file and then extract dates."
   ]
  },
  {
   "cell_type": "code",
   "execution_count": 70,
   "id": "1c821efe",
   "metadata": {},
   "outputs": [],
   "source": [
    "import re\n",
    "with open('sample.txt', 'w') as f:\n",
    "    f.write('Ron was born on 12-09-1992 and he was admitted to school 15-12-1999.')\n",
    "with open('sample.txt', 'r') as f:\n",
    "    text = f.read()\n",
    "\n",
    "pattern = r'\\d{2}-\\d{2}-\\d{4}'\n",
    "\n",
    "dates = re.findall(pattern, text)"
   ]
  },
  {
   "cell_type": "code",
   "execution_count": 71,
   "id": "b51718f5",
   "metadata": {},
   "outputs": [
    {
     "name": "stdout",
     "output_type": "stream",
     "text": [
      "Dates: ['12-09-1992', '15-12-1999']\n"
     ]
    }
   ],
   "source": [
    "print(f\"Dates: {dates}\")"
   ]
  },
  {
   "cell_type": "markdown",
   "id": "59b73fed",
   "metadata": {},
   "source": [
    "Que 30- Write a Python program to replace all occurrences of a space, comma, or dot with a colon. Sample Text- 'Python Exercises, PHP exercises.' Output: Python:Exercises::PHP:exercises:"
   ]
  },
  {
   "cell_type": "code",
   "execution_count": 72,
   "id": "a426d1e4",
   "metadata": {},
   "outputs": [],
   "source": [
    "import re\n",
    "text = 'Python Exercises, PHP exercises.'\n",
    "pattern = r'[ ,.]'\n",
    "\n",
    "new_text = re.sub(pattern, ':', text)"
   ]
  },
  {
   "cell_type": "code",
   "execution_count": 73,
   "id": "7eeaf918",
   "metadata": {},
   "outputs": [
    {
     "name": "stdout",
     "output_type": "stream",
     "text": [
      "New text: Python:Exercises::PHP:exercises:\n"
     ]
    }
   ],
   "source": [
    "print(f\"New text: {new_text}\")"
   ]
  },
  {
   "cell_type": "code",
   "execution_count": null,
   "id": "e95386b0",
   "metadata": {},
   "outputs": [],
   "source": []
  }
 ],
 "metadata": {
  "kernelspec": {
   "display_name": "Python 3 (ipykernel)",
   "language": "python",
   "name": "python3"
  },
  "language_info": {
   "codemirror_mode": {
    "name": "ipython",
    "version": 3
   },
   "file_extension": ".py",
   "mimetype": "text/x-python",
   "name": "python",
   "nbconvert_exporter": "python",
   "pygments_lexer": "ipython3",
   "version": "3.9.13"
  }
 },
 "nbformat": 4,
 "nbformat_minor": 5
}
